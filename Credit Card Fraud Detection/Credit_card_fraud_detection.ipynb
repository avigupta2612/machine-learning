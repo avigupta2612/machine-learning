{
 "cells": [
  {
   "cell_type": "markdown",
   "metadata": {},
   "source": [
    "# Credit Card Fraud Detection\n",
    "The dataset used in this notebook is highly imbalanced. Therefore, I have used different approaches to deal with it."
   ]
  },
  {
   "cell_type": "code",
   "execution_count": 1,
   "metadata": {},
   "outputs": [],
   "source": [
    "import pandas as pd\n",
    "import numpy as np\n",
    "import matplotlib.pyplot as plt\n",
    "import seaborn as sns\n",
    "%matplotlib inline"
   ]
  },
  {
   "cell_type": "markdown",
   "metadata": {},
   "source": [
    "__Dataset downloaded from Kaggle.\n",
    "Download link: https://www.kaggle.com/mlg-ulb/creditcardfraud__"
   ]
  },
  {
   "cell_type": "code",
   "execution_count": 2,
   "metadata": {},
   "outputs": [
    {
     "data": {
      "text/html": [
       "<div>\n",
       "<style scoped>\n",
       "    .dataframe tbody tr th:only-of-type {\n",
       "        vertical-align: middle;\n",
       "    }\n",
       "\n",
       "    .dataframe tbody tr th {\n",
       "        vertical-align: top;\n",
       "    }\n",
       "\n",
       "    .dataframe thead th {\n",
       "        text-align: right;\n",
       "    }\n",
       "</style>\n",
       "<table border=\"1\" class=\"dataframe\">\n",
       "  <thead>\n",
       "    <tr style=\"text-align: right;\">\n",
       "      <th></th>\n",
       "      <th>Time</th>\n",
       "      <th>V1</th>\n",
       "      <th>V2</th>\n",
       "      <th>V3</th>\n",
       "      <th>V4</th>\n",
       "      <th>V5</th>\n",
       "      <th>V6</th>\n",
       "      <th>V7</th>\n",
       "      <th>V8</th>\n",
       "      <th>V9</th>\n",
       "      <th>...</th>\n",
       "      <th>V21</th>\n",
       "      <th>V22</th>\n",
       "      <th>V23</th>\n",
       "      <th>V24</th>\n",
       "      <th>V25</th>\n",
       "      <th>V26</th>\n",
       "      <th>V27</th>\n",
       "      <th>V28</th>\n",
       "      <th>Amount</th>\n",
       "      <th>Class</th>\n",
       "    </tr>\n",
       "  </thead>\n",
       "  <tbody>\n",
       "    <tr>\n",
       "      <th>0</th>\n",
       "      <td>0.0</td>\n",
       "      <td>-1.359807</td>\n",
       "      <td>-0.072781</td>\n",
       "      <td>2.536347</td>\n",
       "      <td>1.378155</td>\n",
       "      <td>-0.338321</td>\n",
       "      <td>0.462388</td>\n",
       "      <td>0.239599</td>\n",
       "      <td>0.098698</td>\n",
       "      <td>0.363787</td>\n",
       "      <td>...</td>\n",
       "      <td>-0.018307</td>\n",
       "      <td>0.277838</td>\n",
       "      <td>-0.110474</td>\n",
       "      <td>0.066928</td>\n",
       "      <td>0.128539</td>\n",
       "      <td>-0.189115</td>\n",
       "      <td>0.133558</td>\n",
       "      <td>-0.021053</td>\n",
       "      <td>149.62</td>\n",
       "      <td>0</td>\n",
       "    </tr>\n",
       "    <tr>\n",
       "      <th>1</th>\n",
       "      <td>0.0</td>\n",
       "      <td>1.191857</td>\n",
       "      <td>0.266151</td>\n",
       "      <td>0.166480</td>\n",
       "      <td>0.448154</td>\n",
       "      <td>0.060018</td>\n",
       "      <td>-0.082361</td>\n",
       "      <td>-0.078803</td>\n",
       "      <td>0.085102</td>\n",
       "      <td>-0.255425</td>\n",
       "      <td>...</td>\n",
       "      <td>-0.225775</td>\n",
       "      <td>-0.638672</td>\n",
       "      <td>0.101288</td>\n",
       "      <td>-0.339846</td>\n",
       "      <td>0.167170</td>\n",
       "      <td>0.125895</td>\n",
       "      <td>-0.008983</td>\n",
       "      <td>0.014724</td>\n",
       "      <td>2.69</td>\n",
       "      <td>0</td>\n",
       "    </tr>\n",
       "    <tr>\n",
       "      <th>2</th>\n",
       "      <td>1.0</td>\n",
       "      <td>-1.358354</td>\n",
       "      <td>-1.340163</td>\n",
       "      <td>1.773209</td>\n",
       "      <td>0.379780</td>\n",
       "      <td>-0.503198</td>\n",
       "      <td>1.800499</td>\n",
       "      <td>0.791461</td>\n",
       "      <td>0.247676</td>\n",
       "      <td>-1.514654</td>\n",
       "      <td>...</td>\n",
       "      <td>0.247998</td>\n",
       "      <td>0.771679</td>\n",
       "      <td>0.909412</td>\n",
       "      <td>-0.689281</td>\n",
       "      <td>-0.327642</td>\n",
       "      <td>-0.139097</td>\n",
       "      <td>-0.055353</td>\n",
       "      <td>-0.059752</td>\n",
       "      <td>378.66</td>\n",
       "      <td>0</td>\n",
       "    </tr>\n",
       "    <tr>\n",
       "      <th>3</th>\n",
       "      <td>1.0</td>\n",
       "      <td>-0.966272</td>\n",
       "      <td>-0.185226</td>\n",
       "      <td>1.792993</td>\n",
       "      <td>-0.863291</td>\n",
       "      <td>-0.010309</td>\n",
       "      <td>1.247203</td>\n",
       "      <td>0.237609</td>\n",
       "      <td>0.377436</td>\n",
       "      <td>-1.387024</td>\n",
       "      <td>...</td>\n",
       "      <td>-0.108300</td>\n",
       "      <td>0.005274</td>\n",
       "      <td>-0.190321</td>\n",
       "      <td>-1.175575</td>\n",
       "      <td>0.647376</td>\n",
       "      <td>-0.221929</td>\n",
       "      <td>0.062723</td>\n",
       "      <td>0.061458</td>\n",
       "      <td>123.50</td>\n",
       "      <td>0</td>\n",
       "    </tr>\n",
       "    <tr>\n",
       "      <th>4</th>\n",
       "      <td>2.0</td>\n",
       "      <td>-1.158233</td>\n",
       "      <td>0.877737</td>\n",
       "      <td>1.548718</td>\n",
       "      <td>0.403034</td>\n",
       "      <td>-0.407193</td>\n",
       "      <td>0.095921</td>\n",
       "      <td>0.592941</td>\n",
       "      <td>-0.270533</td>\n",
       "      <td>0.817739</td>\n",
       "      <td>...</td>\n",
       "      <td>-0.009431</td>\n",
       "      <td>0.798278</td>\n",
       "      <td>-0.137458</td>\n",
       "      <td>0.141267</td>\n",
       "      <td>-0.206010</td>\n",
       "      <td>0.502292</td>\n",
       "      <td>0.219422</td>\n",
       "      <td>0.215153</td>\n",
       "      <td>69.99</td>\n",
       "      <td>0</td>\n",
       "    </tr>\n",
       "  </tbody>\n",
       "</table>\n",
       "<p>5 rows × 31 columns</p>\n",
       "</div>"
      ],
      "text/plain": [
       "   Time        V1        V2        V3        V4        V5        V6        V7  \\\n",
       "0   0.0 -1.359807 -0.072781  2.536347  1.378155 -0.338321  0.462388  0.239599   \n",
       "1   0.0  1.191857  0.266151  0.166480  0.448154  0.060018 -0.082361 -0.078803   \n",
       "2   1.0 -1.358354 -1.340163  1.773209  0.379780 -0.503198  1.800499  0.791461   \n",
       "3   1.0 -0.966272 -0.185226  1.792993 -0.863291 -0.010309  1.247203  0.237609   \n",
       "4   2.0 -1.158233  0.877737  1.548718  0.403034 -0.407193  0.095921  0.592941   \n",
       "\n",
       "         V8        V9  ...       V21       V22       V23       V24       V25  \\\n",
       "0  0.098698  0.363787  ... -0.018307  0.277838 -0.110474  0.066928  0.128539   \n",
       "1  0.085102 -0.255425  ... -0.225775 -0.638672  0.101288 -0.339846  0.167170   \n",
       "2  0.247676 -1.514654  ...  0.247998  0.771679  0.909412 -0.689281 -0.327642   \n",
       "3  0.377436 -1.387024  ... -0.108300  0.005274 -0.190321 -1.175575  0.647376   \n",
       "4 -0.270533  0.817739  ... -0.009431  0.798278 -0.137458  0.141267 -0.206010   \n",
       "\n",
       "        V26       V27       V28  Amount  Class  \n",
       "0 -0.189115  0.133558 -0.021053  149.62      0  \n",
       "1  0.125895 -0.008983  0.014724    2.69      0  \n",
       "2 -0.139097 -0.055353 -0.059752  378.66      0  \n",
       "3 -0.221929  0.062723  0.061458  123.50      0  \n",
       "4  0.502292  0.219422  0.215153   69.99      0  \n",
       "\n",
       "[5 rows x 31 columns]"
      ]
     },
     "execution_count": 2,
     "metadata": {},
     "output_type": "execute_result"
    }
   ],
   "source": [
    "df= pd.read_csv('creditcard.csv')\n",
    "df.head()"
   ]
  },
  {
   "cell_type": "code",
   "execution_count": 3,
   "metadata": {},
   "outputs": [
    {
     "data": {
      "text/html": [
       "<div>\n",
       "<style scoped>\n",
       "    .dataframe tbody tr th:only-of-type {\n",
       "        vertical-align: middle;\n",
       "    }\n",
       "\n",
       "    .dataframe tbody tr th {\n",
       "        vertical-align: top;\n",
       "    }\n",
       "\n",
       "    .dataframe thead th {\n",
       "        text-align: right;\n",
       "    }\n",
       "</style>\n",
       "<table border=\"1\" class=\"dataframe\">\n",
       "  <thead>\n",
       "    <tr style=\"text-align: right;\">\n",
       "      <th></th>\n",
       "      <th>Time</th>\n",
       "      <th>V1</th>\n",
       "      <th>V2</th>\n",
       "      <th>V3</th>\n",
       "      <th>V4</th>\n",
       "      <th>V5</th>\n",
       "      <th>V6</th>\n",
       "      <th>V7</th>\n",
       "      <th>V8</th>\n",
       "      <th>V9</th>\n",
       "      <th>...</th>\n",
       "      <th>V21</th>\n",
       "      <th>V22</th>\n",
       "      <th>V23</th>\n",
       "      <th>V24</th>\n",
       "      <th>V25</th>\n",
       "      <th>V26</th>\n",
       "      <th>V27</th>\n",
       "      <th>V28</th>\n",
       "      <th>Amount</th>\n",
       "      <th>Class</th>\n",
       "    </tr>\n",
       "  </thead>\n",
       "  <tbody>\n",
       "    <tr>\n",
       "      <th>count</th>\n",
       "      <td>284807.000000</td>\n",
       "      <td>2.848070e+05</td>\n",
       "      <td>2.848070e+05</td>\n",
       "      <td>2.848070e+05</td>\n",
       "      <td>2.848070e+05</td>\n",
       "      <td>2.848070e+05</td>\n",
       "      <td>2.848070e+05</td>\n",
       "      <td>2.848070e+05</td>\n",
       "      <td>2.848070e+05</td>\n",
       "      <td>2.848070e+05</td>\n",
       "      <td>...</td>\n",
       "      <td>2.848070e+05</td>\n",
       "      <td>2.848070e+05</td>\n",
       "      <td>2.848070e+05</td>\n",
       "      <td>2.848070e+05</td>\n",
       "      <td>2.848070e+05</td>\n",
       "      <td>2.848070e+05</td>\n",
       "      <td>2.848070e+05</td>\n",
       "      <td>2.848070e+05</td>\n",
       "      <td>284807.000000</td>\n",
       "      <td>284807.000000</td>\n",
       "    </tr>\n",
       "    <tr>\n",
       "      <th>mean</th>\n",
       "      <td>94813.859575</td>\n",
       "      <td>3.919560e-15</td>\n",
       "      <td>5.688174e-16</td>\n",
       "      <td>-8.769071e-15</td>\n",
       "      <td>2.782312e-15</td>\n",
       "      <td>-1.552563e-15</td>\n",
       "      <td>2.010663e-15</td>\n",
       "      <td>-1.694249e-15</td>\n",
       "      <td>-1.927028e-16</td>\n",
       "      <td>-3.137024e-15</td>\n",
       "      <td>...</td>\n",
       "      <td>1.537294e-16</td>\n",
       "      <td>7.959909e-16</td>\n",
       "      <td>5.367590e-16</td>\n",
       "      <td>4.458112e-15</td>\n",
       "      <td>1.453003e-15</td>\n",
       "      <td>1.699104e-15</td>\n",
       "      <td>-3.660161e-16</td>\n",
       "      <td>-1.206049e-16</td>\n",
       "      <td>88.349619</td>\n",
       "      <td>0.001727</td>\n",
       "    </tr>\n",
       "    <tr>\n",
       "      <th>std</th>\n",
       "      <td>47488.145955</td>\n",
       "      <td>1.958696e+00</td>\n",
       "      <td>1.651309e+00</td>\n",
       "      <td>1.516255e+00</td>\n",
       "      <td>1.415869e+00</td>\n",
       "      <td>1.380247e+00</td>\n",
       "      <td>1.332271e+00</td>\n",
       "      <td>1.237094e+00</td>\n",
       "      <td>1.194353e+00</td>\n",
       "      <td>1.098632e+00</td>\n",
       "      <td>...</td>\n",
       "      <td>7.345240e-01</td>\n",
       "      <td>7.257016e-01</td>\n",
       "      <td>6.244603e-01</td>\n",
       "      <td>6.056471e-01</td>\n",
       "      <td>5.212781e-01</td>\n",
       "      <td>4.822270e-01</td>\n",
       "      <td>4.036325e-01</td>\n",
       "      <td>3.300833e-01</td>\n",
       "      <td>250.120109</td>\n",
       "      <td>0.041527</td>\n",
       "    </tr>\n",
       "    <tr>\n",
       "      <th>min</th>\n",
       "      <td>0.000000</td>\n",
       "      <td>-5.640751e+01</td>\n",
       "      <td>-7.271573e+01</td>\n",
       "      <td>-4.832559e+01</td>\n",
       "      <td>-5.683171e+00</td>\n",
       "      <td>-1.137433e+02</td>\n",
       "      <td>-2.616051e+01</td>\n",
       "      <td>-4.355724e+01</td>\n",
       "      <td>-7.321672e+01</td>\n",
       "      <td>-1.343407e+01</td>\n",
       "      <td>...</td>\n",
       "      <td>-3.483038e+01</td>\n",
       "      <td>-1.093314e+01</td>\n",
       "      <td>-4.480774e+01</td>\n",
       "      <td>-2.836627e+00</td>\n",
       "      <td>-1.029540e+01</td>\n",
       "      <td>-2.604551e+00</td>\n",
       "      <td>-2.256568e+01</td>\n",
       "      <td>-1.543008e+01</td>\n",
       "      <td>0.000000</td>\n",
       "      <td>0.000000</td>\n",
       "    </tr>\n",
       "    <tr>\n",
       "      <th>25%</th>\n",
       "      <td>54201.500000</td>\n",
       "      <td>-9.203734e-01</td>\n",
       "      <td>-5.985499e-01</td>\n",
       "      <td>-8.903648e-01</td>\n",
       "      <td>-8.486401e-01</td>\n",
       "      <td>-6.915971e-01</td>\n",
       "      <td>-7.682956e-01</td>\n",
       "      <td>-5.540759e-01</td>\n",
       "      <td>-2.086297e-01</td>\n",
       "      <td>-6.430976e-01</td>\n",
       "      <td>...</td>\n",
       "      <td>-2.283949e-01</td>\n",
       "      <td>-5.423504e-01</td>\n",
       "      <td>-1.618463e-01</td>\n",
       "      <td>-3.545861e-01</td>\n",
       "      <td>-3.171451e-01</td>\n",
       "      <td>-3.269839e-01</td>\n",
       "      <td>-7.083953e-02</td>\n",
       "      <td>-5.295979e-02</td>\n",
       "      <td>5.600000</td>\n",
       "      <td>0.000000</td>\n",
       "    </tr>\n",
       "    <tr>\n",
       "      <th>50%</th>\n",
       "      <td>84692.000000</td>\n",
       "      <td>1.810880e-02</td>\n",
       "      <td>6.548556e-02</td>\n",
       "      <td>1.798463e-01</td>\n",
       "      <td>-1.984653e-02</td>\n",
       "      <td>-5.433583e-02</td>\n",
       "      <td>-2.741871e-01</td>\n",
       "      <td>4.010308e-02</td>\n",
       "      <td>2.235804e-02</td>\n",
       "      <td>-5.142873e-02</td>\n",
       "      <td>...</td>\n",
       "      <td>-2.945017e-02</td>\n",
       "      <td>6.781943e-03</td>\n",
       "      <td>-1.119293e-02</td>\n",
       "      <td>4.097606e-02</td>\n",
       "      <td>1.659350e-02</td>\n",
       "      <td>-5.213911e-02</td>\n",
       "      <td>1.342146e-03</td>\n",
       "      <td>1.124383e-02</td>\n",
       "      <td>22.000000</td>\n",
       "      <td>0.000000</td>\n",
       "    </tr>\n",
       "    <tr>\n",
       "      <th>75%</th>\n",
       "      <td>139320.500000</td>\n",
       "      <td>1.315642e+00</td>\n",
       "      <td>8.037239e-01</td>\n",
       "      <td>1.027196e+00</td>\n",
       "      <td>7.433413e-01</td>\n",
       "      <td>6.119264e-01</td>\n",
       "      <td>3.985649e-01</td>\n",
       "      <td>5.704361e-01</td>\n",
       "      <td>3.273459e-01</td>\n",
       "      <td>5.971390e-01</td>\n",
       "      <td>...</td>\n",
       "      <td>1.863772e-01</td>\n",
       "      <td>5.285536e-01</td>\n",
       "      <td>1.476421e-01</td>\n",
       "      <td>4.395266e-01</td>\n",
       "      <td>3.507156e-01</td>\n",
       "      <td>2.409522e-01</td>\n",
       "      <td>9.104512e-02</td>\n",
       "      <td>7.827995e-02</td>\n",
       "      <td>77.165000</td>\n",
       "      <td>0.000000</td>\n",
       "    </tr>\n",
       "    <tr>\n",
       "      <th>max</th>\n",
       "      <td>172792.000000</td>\n",
       "      <td>2.454930e+00</td>\n",
       "      <td>2.205773e+01</td>\n",
       "      <td>9.382558e+00</td>\n",
       "      <td>1.687534e+01</td>\n",
       "      <td>3.480167e+01</td>\n",
       "      <td>7.330163e+01</td>\n",
       "      <td>1.205895e+02</td>\n",
       "      <td>2.000721e+01</td>\n",
       "      <td>1.559499e+01</td>\n",
       "      <td>...</td>\n",
       "      <td>2.720284e+01</td>\n",
       "      <td>1.050309e+01</td>\n",
       "      <td>2.252841e+01</td>\n",
       "      <td>4.584549e+00</td>\n",
       "      <td>7.519589e+00</td>\n",
       "      <td>3.517346e+00</td>\n",
       "      <td>3.161220e+01</td>\n",
       "      <td>3.384781e+01</td>\n",
       "      <td>25691.160000</td>\n",
       "      <td>1.000000</td>\n",
       "    </tr>\n",
       "  </tbody>\n",
       "</table>\n",
       "<p>8 rows × 31 columns</p>\n",
       "</div>"
      ],
      "text/plain": [
       "                Time            V1            V2            V3            V4  \\\n",
       "count  284807.000000  2.848070e+05  2.848070e+05  2.848070e+05  2.848070e+05   \n",
       "mean    94813.859575  3.919560e-15  5.688174e-16 -8.769071e-15  2.782312e-15   \n",
       "std     47488.145955  1.958696e+00  1.651309e+00  1.516255e+00  1.415869e+00   \n",
       "min         0.000000 -5.640751e+01 -7.271573e+01 -4.832559e+01 -5.683171e+00   \n",
       "25%     54201.500000 -9.203734e-01 -5.985499e-01 -8.903648e-01 -8.486401e-01   \n",
       "50%     84692.000000  1.810880e-02  6.548556e-02  1.798463e-01 -1.984653e-02   \n",
       "75%    139320.500000  1.315642e+00  8.037239e-01  1.027196e+00  7.433413e-01   \n",
       "max    172792.000000  2.454930e+00  2.205773e+01  9.382558e+00  1.687534e+01   \n",
       "\n",
       "                 V5            V6            V7            V8            V9  \\\n",
       "count  2.848070e+05  2.848070e+05  2.848070e+05  2.848070e+05  2.848070e+05   \n",
       "mean  -1.552563e-15  2.010663e-15 -1.694249e-15 -1.927028e-16 -3.137024e-15   \n",
       "std    1.380247e+00  1.332271e+00  1.237094e+00  1.194353e+00  1.098632e+00   \n",
       "min   -1.137433e+02 -2.616051e+01 -4.355724e+01 -7.321672e+01 -1.343407e+01   \n",
       "25%   -6.915971e-01 -7.682956e-01 -5.540759e-01 -2.086297e-01 -6.430976e-01   \n",
       "50%   -5.433583e-02 -2.741871e-01  4.010308e-02  2.235804e-02 -5.142873e-02   \n",
       "75%    6.119264e-01  3.985649e-01  5.704361e-01  3.273459e-01  5.971390e-01   \n",
       "max    3.480167e+01  7.330163e+01  1.205895e+02  2.000721e+01  1.559499e+01   \n",
       "\n",
       "       ...           V21           V22           V23           V24  \\\n",
       "count  ...  2.848070e+05  2.848070e+05  2.848070e+05  2.848070e+05   \n",
       "mean   ...  1.537294e-16  7.959909e-16  5.367590e-16  4.458112e-15   \n",
       "std    ...  7.345240e-01  7.257016e-01  6.244603e-01  6.056471e-01   \n",
       "min    ... -3.483038e+01 -1.093314e+01 -4.480774e+01 -2.836627e+00   \n",
       "25%    ... -2.283949e-01 -5.423504e-01 -1.618463e-01 -3.545861e-01   \n",
       "50%    ... -2.945017e-02  6.781943e-03 -1.119293e-02  4.097606e-02   \n",
       "75%    ...  1.863772e-01  5.285536e-01  1.476421e-01  4.395266e-01   \n",
       "max    ...  2.720284e+01  1.050309e+01  2.252841e+01  4.584549e+00   \n",
       "\n",
       "                V25           V26           V27           V28         Amount  \\\n",
       "count  2.848070e+05  2.848070e+05  2.848070e+05  2.848070e+05  284807.000000   \n",
       "mean   1.453003e-15  1.699104e-15 -3.660161e-16 -1.206049e-16      88.349619   \n",
       "std    5.212781e-01  4.822270e-01  4.036325e-01  3.300833e-01     250.120109   \n",
       "min   -1.029540e+01 -2.604551e+00 -2.256568e+01 -1.543008e+01       0.000000   \n",
       "25%   -3.171451e-01 -3.269839e-01 -7.083953e-02 -5.295979e-02       5.600000   \n",
       "50%    1.659350e-02 -5.213911e-02  1.342146e-03  1.124383e-02      22.000000   \n",
       "75%    3.507156e-01  2.409522e-01  9.104512e-02  7.827995e-02      77.165000   \n",
       "max    7.519589e+00  3.517346e+00  3.161220e+01  3.384781e+01   25691.160000   \n",
       "\n",
       "               Class  \n",
       "count  284807.000000  \n",
       "mean        0.001727  \n",
       "std         0.041527  \n",
       "min         0.000000  \n",
       "25%         0.000000  \n",
       "50%         0.000000  \n",
       "75%         0.000000  \n",
       "max         1.000000  \n",
       "\n",
       "[8 rows x 31 columns]"
      ]
     },
     "execution_count": 3,
     "metadata": {},
     "output_type": "execute_result"
    }
   ],
   "source": [
    "df.describe()"
   ]
  },
  {
   "cell_type": "code",
   "execution_count": 4,
   "metadata": {},
   "outputs": [
    {
     "name": "stdout",
     "output_type": "stream",
     "text": [
      "Time      0\n",
      "V1        0\n",
      "V2        0\n",
      "V3        0\n",
      "V4        0\n",
      "V5        0\n",
      "V6        0\n",
      "V7        0\n",
      "V8        0\n",
      "V9        0\n",
      "V10       0\n",
      "V11       0\n",
      "V12       0\n",
      "V13       0\n",
      "V14       0\n",
      "V15       0\n",
      "V16       0\n",
      "V17       0\n",
      "V18       0\n",
      "V19       0\n",
      "V20       0\n",
      "V21       0\n",
      "V22       0\n",
      "V23       0\n",
      "V24       0\n",
      "V25       0\n",
      "V26       0\n",
      "V27       0\n",
      "V28       0\n",
      "Amount    0\n",
      "Class     0\n",
      "dtype: int64\n"
     ]
    }
   ],
   "source": [
    "nul= df.isna().sum()\n",
    "print(nul)"
   ]
  },
  {
   "cell_type": "code",
   "execution_count": 5,
   "metadata": {},
   "outputs": [
    {
     "data": {
      "text/plain": [
       "0    284315\n",
       "1       492\n",
       "Name: Class, dtype: int64"
      ]
     },
     "execution_count": 5,
     "metadata": {},
     "output_type": "execute_result"
    }
   ],
   "source": [
    "df['Class'].value_counts()"
   ]
  },
  {
   "cell_type": "code",
   "execution_count": 6,
   "metadata": {},
   "outputs": [
    {
     "data": {
      "text/plain": [
       "<matplotlib.axes._subplots.AxesSubplot at 0x153e8107048>"
      ]
     },
     "execution_count": 6,
     "metadata": {},
     "output_type": "execute_result"
    },
    {
     "data": {
      "image/png": "[encoded data removed]",
      "text/plain": [
       "<Figure size 432x288 with 1 Axes>"
      ]
     },
     "metadata": {
      "needs_background": "light"
     },
     "output_type": "display_data"
    }
   ],
   "source": [
    "sns.countplot(df['Class'])"
   ]
  },
  {
   "cell_type": "code",
   "execution_count": 7,
   "metadata": {},
   "outputs": [
    {
     "name": "stdout",
     "output_type": "stream",
     "text": [
      "Percentage of non fraud transactions: 99.83%\n",
      "Percentage of fraud transactions: 0.17%\n"
     ]
    }
   ],
   "source": [
    "count= df['Class'].value_counts()\n",
    "count= count/len(df)*100\n",
    "print('Percentage of non fraud transactions: {:.2f}%'.format(count[0]))\n",
    "print('Percentage of fraud transactions: {:.2f}%'.format(count[1]))\n"
   ]
  },
  {
   "cell_type": "markdown",
   "metadata": {},
   "source": [
    "__Dataset is highly imabalanced__"
   ]
  },
  {
   "cell_type": "code",
   "execution_count": 8,
   "metadata": {},
   "outputs": [
    {
     "data": {
      "text/plain": [
       "<matplotlib.axes._subplots.AxesSubplot at 0x153e8c0b808>"
      ]
     },
     "execution_count": 8,
     "metadata": {},
     "output_type": "execute_result"
    },
    {
     "data": {
      "image/png": "[encoded data removed]",
      "text/plain": [
       "<Figure size 2160x1440 with 2 Axes>"
      ]
     },
     "metadata": {
      "needs_background": "light"
     },
     "output_type": "display_data"
    }
   ],
   "source": [
    "cor= df.corr()\n",
    "plt.figure(figsize=(30,20))\n",
    "sns.heatmap(cor)"
   ]
  },
  {
   "cell_type": "code",
   "execution_count": 9,
   "metadata": {},
   "outputs": [
    {
     "data": {
      "text/plain": [
       "<matplotlib.axes._subplots.AxesSubplot at 0x153e8d76d88>"
      ]
     },
     "execution_count": 9,
     "metadata": {},
     "output_type": "execute_result"
    },
    {
     "data": {
      "image/png": "[encoded data removed]",
      "text/plain": [
       "<Figure size 360x1440 with 2 Axes>"
      ]
     },
     "metadata": {
      "needs_background": "light"
     },
     "output_type": "display_data"
    }
   ],
   "source": [
    "plt.figure(figsize=(5,20))\n",
    "sns.heatmap(cor[['Class']].sort_values(by=['Class'], ascending=False), annot=True)"
   ]
  },
  {
   "cell_type": "code",
   "execution_count": 10,
   "metadata": {},
   "outputs": [
    {
     "data": {
      "image/png": "[encoded data removed]",
      "text/plain": [
       "<Figure size 1296x288 with 2 Axes>"
      ]
     },
     "metadata": {
      "needs_background": "light"
     },
     "output_type": "display_data"
    }
   ],
   "source": [
    "fig, ax = plt.subplots(1, 2, figsize=(18,4))\n",
    "\n",
    "amount_val = df['Amount'].values\n",
    "time_val = df['Time'].values\n",
    "\n",
    "sns.distplot(amount_val, ax=ax[0], color='r')\n",
    "ax[0].set_title('Distribution of Transaction Amount', fontsize=14)\n",
    "ax[0].set_xlim([min(amount_val), max(amount_val)])\n",
    "\n",
    "sns.distplot(time_val, ax=ax[1], color='b')\n",
    "ax[1].set_title('Distribution of Transaction Time', fontsize=14)\n",
    "ax[1].set_xlim([min(time_val), max(time_val)])\n",
    "\n",
    "\n",
    "\n",
    "plt.show()"
   ]
  },
  {
   "cell_type": "code",
   "execution_count": 11,
   "metadata": {},
   "outputs": [
    {
     "data": {
      "text/plain": [
       "<matplotlib.axes._subplots.AxesSubplot at 0x153e98492c8>"
      ]
     },
     "execution_count": 11,
     "metadata": {},
     "output_type": "execute_result"
    },
    {
     "data": {
      "image/png": "[encoded data removed]",
      "text/plain": [
       "<Figure size 432x288 with 1 Axes>"
      ]
     },
     "metadata": {
      "needs_background": "light"
     },
     "output_type": "display_data"
    }
   ],
   "source": [
    "sns.boxplot(x='Class', y='V11', data=df)"
   ]
  },
  {
   "cell_type": "code",
   "execution_count": 12,
   "metadata": {},
   "outputs": [
    {
     "data": {
      "text/plain": [
       "<matplotlib.axes._subplots.AxesSubplot at 0x153e9a11288>"
      ]
     },
     "execution_count": 12,
     "metadata": {},
     "output_type": "execute_result"
    },
    {
     "data": {
      "image/png": "[encoded data removed]",
      "text/plain": [
       "<Figure size 432x288 with 1 Axes>"
      ]
     },
     "metadata": {
      "needs_background": "light"
     },
     "output_type": "display_data"
    }
   ],
   "source": [
    "sns.boxplot(x='Class', y='V17', data=df)"
   ]
  },
  {
   "cell_type": "markdown",
   "metadata": {},
   "source": [
    "## Undersampling"
   ]
  },
  {
   "cell_type": "markdown",
   "metadata": {},
   "source": [
    "### Sub sampling to create a balanced dataset"
   ]
  },
  {
   "cell_type": "code",
   "execution_count": 13,
   "metadata": {
    "scrolled": true
   },
   "outputs": [
    {
     "data": {
      "text/html": [
       "<div>\n",
       "<style scoped>\n",
       "    .dataframe tbody tr th:only-of-type {\n",
       "        vertical-align: middle;\n",
       "    }\n",
       "\n",
       "    .dataframe tbody tr th {\n",
       "        vertical-align: top;\n",
       "    }\n",
       "\n",
       "    .dataframe thead th {\n",
       "        text-align: right;\n",
       "    }\n",
       "</style>\n",
       "<table border=\"1\" class=\"dataframe\">\n",
       "  <thead>\n",
       "    <tr style=\"text-align: right;\">\n",
       "      <th></th>\n",
       "      <th>Time</th>\n",
       "      <th>V1</th>\n",
       "      <th>V2</th>\n",
       "      <th>V3</th>\n",
       "      <th>V4</th>\n",
       "      <th>V5</th>\n",
       "      <th>V6</th>\n",
       "      <th>V7</th>\n",
       "      <th>V8</th>\n",
       "      <th>V9</th>\n",
       "      <th>...</th>\n",
       "      <th>V21</th>\n",
       "      <th>V22</th>\n",
       "      <th>V23</th>\n",
       "      <th>V24</th>\n",
       "      <th>V25</th>\n",
       "      <th>V26</th>\n",
       "      <th>V27</th>\n",
       "      <th>V28</th>\n",
       "      <th>Amount</th>\n",
       "      <th>Class</th>\n",
       "    </tr>\n",
       "  </thead>\n",
       "  <tbody>\n",
       "    <tr>\n",
       "      <th>0</th>\n",
       "      <td>-1.996583</td>\n",
       "      <td>-1.359807</td>\n",
       "      <td>-0.072781</td>\n",
       "      <td>2.536347</td>\n",
       "      <td>1.378155</td>\n",
       "      <td>-0.338321</td>\n",
       "      <td>0.462388</td>\n",
       "      <td>0.239599</td>\n",
       "      <td>0.098698</td>\n",
       "      <td>0.363787</td>\n",
       "      <td>...</td>\n",
       "      <td>-0.018307</td>\n",
       "      <td>0.277838</td>\n",
       "      <td>-0.110474</td>\n",
       "      <td>0.066928</td>\n",
       "      <td>0.128539</td>\n",
       "      <td>-0.189115</td>\n",
       "      <td>0.133558</td>\n",
       "      <td>-0.021053</td>\n",
       "      <td>0.244964</td>\n",
       "      <td>0</td>\n",
       "    </tr>\n",
       "    <tr>\n",
       "      <th>1</th>\n",
       "      <td>-1.996583</td>\n",
       "      <td>1.191857</td>\n",
       "      <td>0.266151</td>\n",
       "      <td>0.166480</td>\n",
       "      <td>0.448154</td>\n",
       "      <td>0.060018</td>\n",
       "      <td>-0.082361</td>\n",
       "      <td>-0.078803</td>\n",
       "      <td>0.085102</td>\n",
       "      <td>-0.255425</td>\n",
       "      <td>...</td>\n",
       "      <td>-0.225775</td>\n",
       "      <td>-0.638672</td>\n",
       "      <td>0.101288</td>\n",
       "      <td>-0.339846</td>\n",
       "      <td>0.167170</td>\n",
       "      <td>0.125895</td>\n",
       "      <td>-0.008983</td>\n",
       "      <td>0.014724</td>\n",
       "      <td>-0.342475</td>\n",
       "      <td>0</td>\n",
       "    </tr>\n",
       "    <tr>\n",
       "      <th>2</th>\n",
       "      <td>-1.996562</td>\n",
       "      <td>-1.358354</td>\n",
       "      <td>-1.340163</td>\n",
       "      <td>1.773209</td>\n",
       "      <td>0.379780</td>\n",
       "      <td>-0.503198</td>\n",
       "      <td>1.800499</td>\n",
       "      <td>0.791461</td>\n",
       "      <td>0.247676</td>\n",
       "      <td>-1.514654</td>\n",
       "      <td>...</td>\n",
       "      <td>0.247998</td>\n",
       "      <td>0.771679</td>\n",
       "      <td>0.909412</td>\n",
       "      <td>-0.689281</td>\n",
       "      <td>-0.327642</td>\n",
       "      <td>-0.139097</td>\n",
       "      <td>-0.055353</td>\n",
       "      <td>-0.059752</td>\n",
       "      <td>1.160686</td>\n",
       "      <td>0</td>\n",
       "    </tr>\n",
       "    <tr>\n",
       "      <th>3</th>\n",
       "      <td>-1.996562</td>\n",
       "      <td>-0.966272</td>\n",
       "      <td>-0.185226</td>\n",
       "      <td>1.792993</td>\n",
       "      <td>-0.863291</td>\n",
       "      <td>-0.010309</td>\n",
       "      <td>1.247203</td>\n",
       "      <td>0.237609</td>\n",
       "      <td>0.377436</td>\n",
       "      <td>-1.387024</td>\n",
       "      <td>...</td>\n",
       "      <td>-0.108300</td>\n",
       "      <td>0.005274</td>\n",
       "      <td>-0.190321</td>\n",
       "      <td>-1.175575</td>\n",
       "      <td>0.647376</td>\n",
       "      <td>-0.221929</td>\n",
       "      <td>0.062723</td>\n",
       "      <td>0.061458</td>\n",
       "      <td>0.140534</td>\n",
       "      <td>0</td>\n",
       "    </tr>\n",
       "    <tr>\n",
       "      <th>4</th>\n",
       "      <td>-1.996541</td>\n",
       "      <td>-1.158233</td>\n",
       "      <td>0.877737</td>\n",
       "      <td>1.548718</td>\n",
       "      <td>0.403034</td>\n",
       "      <td>-0.407193</td>\n",
       "      <td>0.095921</td>\n",
       "      <td>0.592941</td>\n",
       "      <td>-0.270533</td>\n",
       "      <td>0.817739</td>\n",
       "      <td>...</td>\n",
       "      <td>-0.009431</td>\n",
       "      <td>0.798278</td>\n",
       "      <td>-0.137458</td>\n",
       "      <td>0.141267</td>\n",
       "      <td>-0.206010</td>\n",
       "      <td>0.502292</td>\n",
       "      <td>0.219422</td>\n",
       "      <td>0.215153</td>\n",
       "      <td>-0.073403</td>\n",
       "      <td>0</td>\n",
       "    </tr>\n",
       "  </tbody>\n",
       "</table>\n",
       "<p>5 rows × 31 columns</p>\n",
       "</div>"
      ],
      "text/plain": [
       "       Time        V1        V2        V3        V4        V5        V6  \\\n",
       "0 -1.996583 -1.359807 -0.072781  2.536347  1.378155 -0.338321  0.462388   \n",
       "1 -1.996583  1.191857  0.266151  0.166480  0.448154  0.060018 -0.082361   \n",
       "2 -1.996562 -1.358354 -1.340163  1.773209  0.379780 -0.503198  1.800499   \n",
       "3 -1.996562 -0.966272 -0.185226  1.792993 -0.863291 -0.010309  1.247203   \n",
       "4 -1.996541 -1.158233  0.877737  1.548718  0.403034 -0.407193  0.095921   \n",
       "\n",
       "         V7        V8        V9  ...       V21       V22       V23       V24  \\\n",
       "0  0.239599  0.098698  0.363787  ... -0.018307  0.277838 -0.110474  0.066928   \n",
       "1 -0.078803  0.085102 -0.255425  ... -0.225775 -0.638672  0.101288 -0.339846   \n",
       "2  0.791461  0.247676 -1.514654  ...  0.247998  0.771679  0.909412 -0.689281   \n",
       "3  0.237609  0.377436 -1.387024  ... -0.108300  0.005274 -0.190321 -1.175575   \n",
       "4  0.592941 -0.270533  0.817739  ... -0.009431  0.798278 -0.137458  0.141267   \n",
       "\n",
       "        V25       V26       V27       V28    Amount  Class  \n",
       "0  0.128539 -0.189115  0.133558 -0.021053  0.244964      0  \n",
       "1  0.167170  0.125895 -0.008983  0.014724 -0.342475      0  \n",
       "2 -0.327642 -0.139097 -0.055353 -0.059752  1.160686      0  \n",
       "3  0.647376 -0.221929  0.062723  0.061458  0.140534      0  \n",
       "4 -0.206010  0.502292  0.219422  0.215153 -0.073403      0  \n",
       "\n",
       "[5 rows x 31 columns]"
      ]
     },
     "execution_count": 13,
     "metadata": {},
     "output_type": "execute_result"
    }
   ],
   "source": [
    "#Scaling time and amount features\n",
    "from sklearn.preprocessing import StandardScaler\n",
    "std_scaler= StandardScaler()\n",
    "df['Amount']= std_scaler.fit_transform(df['Amount'].values.reshape(-1,1))\n",
    "df['Time']= std_scaler.fit_transform(df['Time'].values.reshape(-1,1))\n",
    "df.head()"
   ]
  },
  {
   "cell_type": "code",
   "execution_count": 14,
   "metadata": {},
   "outputs": [
    {
     "data": {
      "text/html": [
       "<div>\n",
       "<style scoped>\n",
       "    .dataframe tbody tr th:only-of-type {\n",
       "        vertical-align: middle;\n",
       "    }\n",
       "\n",
       "    .dataframe tbody tr th {\n",
       "        vertical-align: top;\n",
       "    }\n",
       "\n",
       "    .dataframe thead th {\n",
       "        text-align: right;\n",
       "    }\n",
       "</style>\n",
       "<table border=\"1\" class=\"dataframe\">\n",
       "  <thead>\n",
       "    <tr style=\"text-align: right;\">\n",
       "      <th></th>\n",
       "      <th>Time</th>\n",
       "      <th>V1</th>\n",
       "      <th>V2</th>\n",
       "      <th>V3</th>\n",
       "      <th>V4</th>\n",
       "      <th>V5</th>\n",
       "      <th>V6</th>\n",
       "      <th>V7</th>\n",
       "      <th>V8</th>\n",
       "      <th>V9</th>\n",
       "      <th>...</th>\n",
       "      <th>V21</th>\n",
       "      <th>V22</th>\n",
       "      <th>V23</th>\n",
       "      <th>V24</th>\n",
       "      <th>V25</th>\n",
       "      <th>V26</th>\n",
       "      <th>V27</th>\n",
       "      <th>V28</th>\n",
       "      <th>Amount</th>\n",
       "      <th>Class</th>\n",
       "    </tr>\n",
       "  </thead>\n",
       "  <tbody>\n",
       "    <tr>\n",
       "      <th>37308</th>\n",
       "      <td>-1.177430</td>\n",
       "      <td>-1.948561</td>\n",
       "      <td>0.883574</td>\n",
       "      <td>-0.832719</td>\n",
       "      <td>-1.254614</td>\n",
       "      <td>-2.953686</td>\n",
       "      <td>0.892269</td>\n",
       "      <td>3.175510</td>\n",
       "      <td>0.228270</td>\n",
       "      <td>-0.707266</td>\n",
       "      <td>...</td>\n",
       "      <td>-0.200481</td>\n",
       "      <td>-0.533468</td>\n",
       "      <td>0.476328</td>\n",
       "      <td>-0.382893</td>\n",
       "      <td>0.051280</td>\n",
       "      <td>0.724433</td>\n",
       "      <td>0.383769</td>\n",
       "      <td>-0.063761</td>\n",
       "      <td>2.441433</td>\n",
       "      <td>0</td>\n",
       "    </tr>\n",
       "    <tr>\n",
       "      <th>131360</th>\n",
       "      <td>-0.320962</td>\n",
       "      <td>1.140310</td>\n",
       "      <td>0.048683</td>\n",
       "      <td>0.664428</td>\n",
       "      <td>1.448274</td>\n",
       "      <td>-0.409145</td>\n",
       "      <td>0.010268</td>\n",
       "      <td>-0.207347</td>\n",
       "      <td>0.106452</td>\n",
       "      <td>0.624527</td>\n",
       "      <td>...</td>\n",
       "      <td>-0.058232</td>\n",
       "      <td>0.081320</td>\n",
       "      <td>-0.067370</td>\n",
       "      <td>0.087378</td>\n",
       "      <td>0.609360</td>\n",
       "      <td>-0.267618</td>\n",
       "      <td>0.052254</td>\n",
       "      <td>0.019163</td>\n",
       "      <td>-0.313249</td>\n",
       "      <td>0</td>\n",
       "    </tr>\n",
       "    <tr>\n",
       "      <th>242266</th>\n",
       "      <td>1.191945</td>\n",
       "      <td>0.038136</td>\n",
       "      <td>0.580730</td>\n",
       "      <td>-0.507179</td>\n",
       "      <td>-0.907247</td>\n",
       "      <td>1.768349</td>\n",
       "      <td>1.219278</td>\n",
       "      <td>0.762048</td>\n",
       "      <td>0.355227</td>\n",
       "      <td>0.031817</td>\n",
       "      <td>...</td>\n",
       "      <td>-0.278404</td>\n",
       "      <td>-0.492436</td>\n",
       "      <td>0.150008</td>\n",
       "      <td>-0.867343</td>\n",
       "      <td>-0.700089</td>\n",
       "      <td>0.188071</td>\n",
       "      <td>0.093942</td>\n",
       "      <td>-0.164461</td>\n",
       "      <td>-0.281304</td>\n",
       "      <td>0</td>\n",
       "    </tr>\n",
       "    <tr>\n",
       "      <th>70350</th>\n",
       "      <td>-0.862972</td>\n",
       "      <td>0.645573</td>\n",
       "      <td>-0.419194</td>\n",
       "      <td>0.088680</td>\n",
       "      <td>1.245510</td>\n",
       "      <td>-0.174088</td>\n",
       "      <td>-0.109024</td>\n",
       "      <td>0.531370</td>\n",
       "      <td>-0.033480</td>\n",
       "      <td>-0.557744</td>\n",
       "      <td>...</td>\n",
       "      <td>-0.228694</td>\n",
       "      <td>-1.290322</td>\n",
       "      <td>0.010357</td>\n",
       "      <td>-0.044269</td>\n",
       "      <td>0.063760</td>\n",
       "      <td>-0.855282</td>\n",
       "      <td>-0.023274</td>\n",
       "      <td>0.062087</td>\n",
       "      <td>0.706263</td>\n",
       "      <td>0</td>\n",
       "    </tr>\n",
       "    <tr>\n",
       "      <th>82328</th>\n",
       "      <td>-0.746606</td>\n",
       "      <td>1.223116</td>\n",
       "      <td>0.212560</td>\n",
       "      <td>0.635293</td>\n",
       "      <td>0.706866</td>\n",
       "      <td>-0.676058</td>\n",
       "      <td>-1.185337</td>\n",
       "      <td>0.056445</td>\n",
       "      <td>-0.209991</td>\n",
       "      <td>0.070963</td>\n",
       "      <td>...</td>\n",
       "      <td>-0.235318</td>\n",
       "      <td>-0.714605</td>\n",
       "      <td>0.174446</td>\n",
       "      <td>0.697892</td>\n",
       "      <td>0.160191</td>\n",
       "      <td>0.074646</td>\n",
       "      <td>-0.032112</td>\n",
       "      <td>0.022890</td>\n",
       "      <td>-0.317287</td>\n",
       "      <td>0</td>\n",
       "    </tr>\n",
       "  </tbody>\n",
       "</table>\n",
       "<p>5 rows × 31 columns</p>\n",
       "</div>"
      ],
      "text/plain": [
       "            Time        V1        V2        V3        V4        V5        V6  \\\n",
       "37308  -1.177430 -1.948561  0.883574 -0.832719 -1.254614 -2.953686  0.892269   \n",
       "131360 -0.320962  1.140310  0.048683  0.664428  1.448274 -0.409145  0.010268   \n",
       "242266  1.191945  0.038136  0.580730 -0.507179 -0.907247  1.768349  1.219278   \n",
       "70350  -0.862972  0.645573 -0.419194  0.088680  1.245510 -0.174088 -0.109024   \n",
       "82328  -0.746606  1.223116  0.212560  0.635293  0.706866 -0.676058 -1.185337   \n",
       "\n",
       "              V7        V8        V9  ...       V21       V22       V23  \\\n",
       "37308   3.175510  0.228270 -0.707266  ... -0.200481 -0.533468  0.476328   \n",
       "131360 -0.207347  0.106452  0.624527  ... -0.058232  0.081320 -0.067370   \n",
       "242266  0.762048  0.355227  0.031817  ... -0.278404 -0.492436  0.150008   \n",
       "70350   0.531370 -0.033480 -0.557744  ... -0.228694 -1.290322  0.010357   \n",
       "82328   0.056445 -0.209991  0.070963  ... -0.235318 -0.714605  0.174446   \n",
       "\n",
       "             V24       V25       V26       V27       V28    Amount  Class  \n",
       "37308  -0.382893  0.051280  0.724433  0.383769 -0.063761  2.441433      0  \n",
       "131360  0.087378  0.609360 -0.267618  0.052254  0.019163 -0.313249      0  \n",
       "242266 -0.867343 -0.700089  0.188071  0.093942 -0.164461 -0.281304      0  \n",
       "70350  -0.044269  0.063760 -0.855282 -0.023274  0.062087  0.706263      0  \n",
       "82328   0.697892  0.160191  0.074646 -0.032112  0.022890 -0.317287      0  \n",
       "\n",
       "[5 rows x 31 columns]"
      ]
     },
     "execution_count": 14,
     "metadata": {},
     "output_type": "execute_result"
    }
   ],
   "source": [
    "#Shuffling Dataset\n",
    "df= df.sample(frac=1)\n",
    "df.head()"
   ]
  },
  {
   "cell_type": "code",
   "execution_count": 15,
   "metadata": {},
   "outputs": [
    {
     "data": {
      "text/html": [
       "<div>\n",
       "<style scoped>\n",
       "    .dataframe tbody tr th:only-of-type {\n",
       "        vertical-align: middle;\n",
       "    }\n",
       "\n",
       "    .dataframe tbody tr th {\n",
       "        vertical-align: top;\n",
       "    }\n",
       "\n",
       "    .dataframe thead th {\n",
       "        text-align: right;\n",
       "    }\n",
       "</style>\n",
       "<table border=\"1\" class=\"dataframe\">\n",
       "  <thead>\n",
       "    <tr style=\"text-align: right;\">\n",
       "      <th></th>\n",
       "      <th>Time</th>\n",
       "      <th>V1</th>\n",
       "      <th>V2</th>\n",
       "      <th>V3</th>\n",
       "      <th>V4</th>\n",
       "      <th>V5</th>\n",
       "      <th>V6</th>\n",
       "      <th>V7</th>\n",
       "      <th>V8</th>\n",
       "      <th>V9</th>\n",
       "      <th>...</th>\n",
       "      <th>V21</th>\n",
       "      <th>V22</th>\n",
       "      <th>V23</th>\n",
       "      <th>V24</th>\n",
       "      <th>V25</th>\n",
       "      <th>V26</th>\n",
       "      <th>V27</th>\n",
       "      <th>V28</th>\n",
       "      <th>Amount</th>\n",
       "      <th>Class</th>\n",
       "    </tr>\n",
       "  </thead>\n",
       "  <tbody>\n",
       "    <tr>\n",
       "      <th>241254</th>\n",
       "      <td>1.182090</td>\n",
       "      <td>-2.423535</td>\n",
       "      <td>1.659093</td>\n",
       "      <td>-3.071421</td>\n",
       "      <td>2.588033</td>\n",
       "      <td>1.135791</td>\n",
       "      <td>-1.892388</td>\n",
       "      <td>-2.588418</td>\n",
       "      <td>-2.226592</td>\n",
       "      <td>-1.670173</td>\n",
       "      <td>...</td>\n",
       "      <td>-0.934127</td>\n",
       "      <td>0.922038</td>\n",
       "      <td>-0.180255</td>\n",
       "      <td>-0.281719</td>\n",
       "      <td>0.299285</td>\n",
       "      <td>-0.263801</td>\n",
       "      <td>0.150156</td>\n",
       "      <td>0.292112</td>\n",
       "      <td>-0.316087</td>\n",
       "      <td>1</td>\n",
       "    </tr>\n",
       "    <tr>\n",
       "      <th>10484</th>\n",
       "      <td>-1.634660</td>\n",
       "      <td>1.088375</td>\n",
       "      <td>0.898474</td>\n",
       "      <td>0.394684</td>\n",
       "      <td>3.170258</td>\n",
       "      <td>0.175739</td>\n",
       "      <td>-0.221981</td>\n",
       "      <td>-0.022989</td>\n",
       "      <td>-0.010874</td>\n",
       "      <td>0.860044</td>\n",
       "      <td>...</td>\n",
       "      <td>-0.423554</td>\n",
       "      <td>-0.800852</td>\n",
       "      <td>0.077614</td>\n",
       "      <td>0.167608</td>\n",
       "      <td>0.350182</td>\n",
       "      <td>-0.118941</td>\n",
       "      <td>0.012948</td>\n",
       "      <td>0.054254</td>\n",
       "      <td>-0.338077</td>\n",
       "      <td>1</td>\n",
       "    </tr>\n",
       "    <tr>\n",
       "      <th>150666</th>\n",
       "      <td>-0.020086</td>\n",
       "      <td>-10.850282</td>\n",
       "      <td>6.727466</td>\n",
       "      <td>-16.760583</td>\n",
       "      <td>8.425832</td>\n",
       "      <td>-10.252697</td>\n",
       "      <td>-4.192171</td>\n",
       "      <td>-14.077086</td>\n",
       "      <td>7.168288</td>\n",
       "      <td>-3.683242</td>\n",
       "      <td>...</td>\n",
       "      <td>2.541637</td>\n",
       "      <td>0.135535</td>\n",
       "      <td>-1.023967</td>\n",
       "      <td>0.406265</td>\n",
       "      <td>0.106593</td>\n",
       "      <td>-0.026232</td>\n",
       "      <td>-1.464630</td>\n",
       "      <td>-0.411682</td>\n",
       "      <td>-0.041379</td>\n",
       "      <td>1</td>\n",
       "    </tr>\n",
       "    <tr>\n",
       "      <th>135718</th>\n",
       "      <td>-0.283058</td>\n",
       "      <td>-0.885254</td>\n",
       "      <td>1.790649</td>\n",
       "      <td>-0.945149</td>\n",
       "      <td>3.853433</td>\n",
       "      <td>-1.543510</td>\n",
       "      <td>0.188582</td>\n",
       "      <td>-2.988383</td>\n",
       "      <td>1.344059</td>\n",
       "      <td>-2.294535</td>\n",
       "      <td>...</td>\n",
       "      <td>0.746160</td>\n",
       "      <td>0.550802</td>\n",
       "      <td>-0.034882</td>\n",
       "      <td>-0.567608</td>\n",
       "      <td>-0.528318</td>\n",
       "      <td>0.258782</td>\n",
       "      <td>0.506893</td>\n",
       "      <td>0.176736</td>\n",
       "      <td>-0.322964</td>\n",
       "      <td>1</td>\n",
       "    </tr>\n",
       "    <tr>\n",
       "      <th>131272</th>\n",
       "      <td>-0.321636</td>\n",
       "      <td>-0.114361</td>\n",
       "      <td>1.036129</td>\n",
       "      <td>1.984405</td>\n",
       "      <td>3.128243</td>\n",
       "      <td>-0.740344</td>\n",
       "      <td>1.548619</td>\n",
       "      <td>-1.701284</td>\n",
       "      <td>-2.203842</td>\n",
       "      <td>-1.242265</td>\n",
       "      <td>...</td>\n",
       "      <td>-1.032935</td>\n",
       "      <td>1.196428</td>\n",
       "      <td>-0.112857</td>\n",
       "      <td>0.254719</td>\n",
       "      <td>0.696668</td>\n",
       "      <td>0.482370</td>\n",
       "      <td>0.129969</td>\n",
       "      <td>0.223924</td>\n",
       "      <td>-0.352430</td>\n",
       "      <td>1</td>\n",
       "    </tr>\n",
       "  </tbody>\n",
       "</table>\n",
       "<p>5 rows × 31 columns</p>\n",
       "</div>"
      ],
      "text/plain": [
       "            Time         V1        V2         V3        V4         V5  \\\n",
       "241254  1.182090  -2.423535  1.659093  -3.071421  2.588033   1.135791   \n",
       "10484  -1.634660   1.088375  0.898474   0.394684  3.170258   0.175739   \n",
       "150666 -0.020086 -10.850282  6.727466 -16.760583  8.425832 -10.252697   \n",
       "135718 -0.283058  -0.885254  1.790649  -0.945149  3.853433  -1.543510   \n",
       "131272 -0.321636  -0.114361  1.036129   1.984405  3.128243  -0.740344   \n",
       "\n",
       "              V6         V7        V8        V9  ...       V21       V22  \\\n",
       "241254 -1.892388  -2.588418 -2.226592 -1.670173  ... -0.934127  0.922038   \n",
       "10484  -0.221981  -0.022989 -0.010874  0.860044  ... -0.423554 -0.800852   \n",
       "150666 -4.192171 -14.077086  7.168288 -3.683242  ...  2.541637  0.135535   \n",
       "135718  0.188582  -2.988383  1.344059 -2.294535  ...  0.746160  0.550802   \n",
       "131272  1.548619  -1.701284 -2.203842 -1.242265  ... -1.032935  1.196428   \n",
       "\n",
       "             V23       V24       V25       V26       V27       V28    Amount  \\\n",
       "241254 -0.180255 -0.281719  0.299285 -0.263801  0.150156  0.292112 -0.316087   \n",
       "10484   0.077614  0.167608  0.350182 -0.118941  0.012948  0.054254 -0.338077   \n",
       "150666 -1.023967  0.406265  0.106593 -0.026232 -1.464630 -0.411682 -0.041379   \n",
       "135718 -0.034882 -0.567608 -0.528318  0.258782  0.506893  0.176736 -0.322964   \n",
       "131272 -0.112857  0.254719  0.696668  0.482370  0.129969  0.223924 -0.352430   \n",
       "\n",
       "        Class  \n",
       "241254      1  \n",
       "10484       1  \n",
       "150666      1  \n",
       "135718      1  \n",
       "131272      1  \n",
       "\n",
       "[5 rows x 31 columns]"
      ]
     },
     "execution_count": 15,
     "metadata": {},
     "output_type": "execute_result"
    }
   ],
   "source": [
    "fraud_df= df.loc[df['Class']==1]\n",
    "non_fraud_df= df.loc[df['Class']==0][:492]\n",
    "sample_df= pd.concat([fraud_df, non_fraud_df])\n",
    "sample_df.head()"
   ]
  },
  {
   "cell_type": "code",
   "execution_count": 16,
   "metadata": {},
   "outputs": [
    {
     "data": {
      "text/plain": [
       "<matplotlib.axes._subplots.AxesSubplot at 0x153e9a987c8>"
      ]
     },
     "execution_count": 16,
     "metadata": {},
     "output_type": "execute_result"
    },
    {
     "data": {
      "image/png": "[encoded data removed]",
      "text/plain": [
       "<Figure size 432x288 with 1 Axes>"
      ]
     },
     "metadata": {
      "needs_background": "light"
     },
     "output_type": "display_data"
    }
   ],
   "source": [
    "sns.countplot('Class', data=sample_df)"
   ]
  },
  {
   "cell_type": "code",
   "execution_count": 17,
   "metadata": {},
   "outputs": [
    {
     "data": {
      "text/plain": [
       "<matplotlib.axes._subplots.AxesSubplot at 0x153e9b11648>"
      ]
     },
     "execution_count": 17,
     "metadata": {},
     "output_type": "execute_result"
    },
    {
     "data": {
      "image/png": "[encoded data removed]",
      "text/plain": [
       "<Figure size 2160x1440 with 2 Axes>"
      ]
     },
     "metadata": {
      "needs_background": "light"
     },
     "output_type": "display_data"
    }
   ],
   "source": [
    "sample_corr= sample_df.corr()\n",
    "plt.figure(figsize=(30,20))\n",
    "sns.heatmap(sample_corr)"
   ]
  },
  {
   "cell_type": "code",
   "execution_count": 18,
   "metadata": {},
   "outputs": [
    {
     "data": {
      "text/plain": [
       "<matplotlib.axes._subplots.AxesSubplot at 0x153e8535e48>"
      ]
     },
     "execution_count": 18,
     "metadata": {},
     "output_type": "execute_result"
    },
    {
     "data": {
      "image/png": "[encoded data removed]",
      "text/plain": [
       "<Figure size 360x1080 with 2 Axes>"
      ]
     },
     "metadata": {
      "needs_background": "light"
     },
     "output_type": "display_data"
    }
   ],
   "source": [
    "plt.figure(figsize=(5,15))\n",
    "sns.heatmap(sample_corr[['Class']].sort_values(by='Class', ascending=False), annot=True)"
   ]
  },
  {
   "cell_type": "code",
   "execution_count": 19,
   "metadata": {},
   "outputs": [
    {
     "data": {
      "image/png": "[encoded data removed]",
      "text/plain": [
       "<Figure size 1440x720 with 8 Axes>"
      ]
     },
     "metadata": {
      "needs_background": "light"
     },
     "output_type": "display_data"
    }
   ],
   "source": [
    "#Plotting top 4 positive and negative correlations\n",
    "fig= plt.figure(figsize=(20,10))\n",
    "y_plots= ['V11','V4','V2','V19', 'V14', 'V12', 'V10', 'V16']\n",
    "for idx in range(len(y_plots)):\n",
    "    ax = fig.add_subplot(2, 8/2, idx+1)\n",
    "    sns.boxplot(x='Class', y=y_plots[idx], data= sample_df)\n",
    "    "
   ]
  },
  {
   "cell_type": "markdown",
   "metadata": {},
   "source": [
    "## Classification on Sub- sampled Dataset"
   ]
  },
  {
   "cell_type": "code",
   "execution_count": 20,
   "metadata": {},
   "outputs": [],
   "source": [
    "from sklearn.model_selection import train_test_split\n",
    "from sklearn.linear_model import LogisticRegression\n",
    "from sklearn.ensemble import RandomForestClassifier\n",
    "from sklearn.neighbors import KNeighborsClassifier\n",
    "from sklearn.tree import DecisionTreeClassifier\n",
    "from sklearn.svm import SVC\n",
    "from sklearn.metrics import accuracy_score, confusion_matrix, classification_report\n",
    "from sklearn.model_selection import cross_val_score"
   ]
  },
  {
   "cell_type": "code",
   "execution_count": 21,
   "metadata": {},
   "outputs": [
    {
     "data": {
      "text/html": [
       "<div>\n",
       "<style scoped>\n",
       "    .dataframe tbody tr th:only-of-type {\n",
       "        vertical-align: middle;\n",
       "    }\n",
       "\n",
       "    .dataframe tbody tr th {\n",
       "        vertical-align: top;\n",
       "    }\n",
       "\n",
       "    .dataframe thead th {\n",
       "        text-align: right;\n",
       "    }\n",
       "</style>\n",
       "<table border=\"1\" class=\"dataframe\">\n",
       "  <thead>\n",
       "    <tr style=\"text-align: right;\">\n",
       "      <th></th>\n",
       "      <th>Time</th>\n",
       "      <th>V1</th>\n",
       "      <th>V2</th>\n",
       "      <th>V3</th>\n",
       "      <th>V4</th>\n",
       "      <th>V5</th>\n",
       "      <th>V6</th>\n",
       "      <th>V7</th>\n",
       "      <th>V8</th>\n",
       "      <th>V9</th>\n",
       "      <th>...</th>\n",
       "      <th>V20</th>\n",
       "      <th>V21</th>\n",
       "      <th>V22</th>\n",
       "      <th>V23</th>\n",
       "      <th>V24</th>\n",
       "      <th>V25</th>\n",
       "      <th>V26</th>\n",
       "      <th>V27</th>\n",
       "      <th>V28</th>\n",
       "      <th>Amount</th>\n",
       "    </tr>\n",
       "  </thead>\n",
       "  <tbody>\n",
       "    <tr>\n",
       "      <th>241254</th>\n",
       "      <td>1.182090</td>\n",
       "      <td>-2.423535</td>\n",
       "      <td>1.659093</td>\n",
       "      <td>-3.071421</td>\n",
       "      <td>2.588033</td>\n",
       "      <td>1.135791</td>\n",
       "      <td>-1.892388</td>\n",
       "      <td>-2.588418</td>\n",
       "      <td>-2.226592</td>\n",
       "      <td>-1.670173</td>\n",
       "      <td>...</td>\n",
       "      <td>0.353898</td>\n",
       "      <td>-0.934127</td>\n",
       "      <td>0.922038</td>\n",
       "      <td>-0.180255</td>\n",
       "      <td>-0.281719</td>\n",
       "      <td>0.299285</td>\n",
       "      <td>-0.263801</td>\n",
       "      <td>0.150156</td>\n",
       "      <td>0.292112</td>\n",
       "      <td>-0.316087</td>\n",
       "    </tr>\n",
       "    <tr>\n",
       "      <th>10484</th>\n",
       "      <td>-1.634660</td>\n",
       "      <td>1.088375</td>\n",
       "      <td>0.898474</td>\n",
       "      <td>0.394684</td>\n",
       "      <td>3.170258</td>\n",
       "      <td>0.175739</td>\n",
       "      <td>-0.221981</td>\n",
       "      <td>-0.022989</td>\n",
       "      <td>-0.010874</td>\n",
       "      <td>0.860044</td>\n",
       "      <td>...</td>\n",
       "      <td>-0.217358</td>\n",
       "      <td>-0.423554</td>\n",
       "      <td>-0.800852</td>\n",
       "      <td>0.077614</td>\n",
       "      <td>0.167608</td>\n",
       "      <td>0.350182</td>\n",
       "      <td>-0.118941</td>\n",
       "      <td>0.012948</td>\n",
       "      <td>0.054254</td>\n",
       "      <td>-0.338077</td>\n",
       "    </tr>\n",
       "    <tr>\n",
       "      <th>150666</th>\n",
       "      <td>-0.020086</td>\n",
       "      <td>-10.850282</td>\n",
       "      <td>6.727466</td>\n",
       "      <td>-16.760583</td>\n",
       "      <td>8.425832</td>\n",
       "      <td>-10.252697</td>\n",
       "      <td>-4.192171</td>\n",
       "      <td>-14.077086</td>\n",
       "      <td>7.168288</td>\n",
       "      <td>-3.683242</td>\n",
       "      <td>...</td>\n",
       "      <td>-0.646818</td>\n",
       "      <td>2.541637</td>\n",
       "      <td>0.135535</td>\n",
       "      <td>-1.023967</td>\n",
       "      <td>0.406265</td>\n",
       "      <td>0.106593</td>\n",
       "      <td>-0.026232</td>\n",
       "      <td>-1.464630</td>\n",
       "      <td>-0.411682</td>\n",
       "      <td>-0.041379</td>\n",
       "    </tr>\n",
       "    <tr>\n",
       "      <th>135718</th>\n",
       "      <td>-0.283058</td>\n",
       "      <td>-0.885254</td>\n",
       "      <td>1.790649</td>\n",
       "      <td>-0.945149</td>\n",
       "      <td>3.853433</td>\n",
       "      <td>-1.543510</td>\n",
       "      <td>0.188582</td>\n",
       "      <td>-2.988383</td>\n",
       "      <td>1.344059</td>\n",
       "      <td>-2.294535</td>\n",
       "      <td>...</td>\n",
       "      <td>0.370041</td>\n",
       "      <td>0.746160</td>\n",
       "      <td>0.550802</td>\n",
       "      <td>-0.034882</td>\n",
       "      <td>-0.567608</td>\n",
       "      <td>-0.528318</td>\n",
       "      <td>0.258782</td>\n",
       "      <td>0.506893</td>\n",
       "      <td>0.176736</td>\n",
       "      <td>-0.322964</td>\n",
       "    </tr>\n",
       "    <tr>\n",
       "      <th>131272</th>\n",
       "      <td>-0.321636</td>\n",
       "      <td>-0.114361</td>\n",
       "      <td>1.036129</td>\n",
       "      <td>1.984405</td>\n",
       "      <td>3.128243</td>\n",
       "      <td>-0.740344</td>\n",
       "      <td>1.548619</td>\n",
       "      <td>-1.701284</td>\n",
       "      <td>-2.203842</td>\n",
       "      <td>-1.242265</td>\n",
       "      <td>...</td>\n",
       "      <td>0.732852</td>\n",
       "      <td>-1.032935</td>\n",
       "      <td>1.196428</td>\n",
       "      <td>-0.112857</td>\n",
       "      <td>0.254719</td>\n",
       "      <td>0.696668</td>\n",
       "      <td>0.482370</td>\n",
       "      <td>0.129969</td>\n",
       "      <td>0.223924</td>\n",
       "      <td>-0.352430</td>\n",
       "    </tr>\n",
       "  </tbody>\n",
       "</table>\n",
       "<p>5 rows × 30 columns</p>\n",
       "</div>"
      ],
      "text/plain": [
       "            Time         V1        V2         V3        V4         V5  \\\n",
       "241254  1.182090  -2.423535  1.659093  -3.071421  2.588033   1.135791   \n",
       "10484  -1.634660   1.088375  0.898474   0.394684  3.170258   0.175739   \n",
       "150666 -0.020086 -10.850282  6.727466 -16.760583  8.425832 -10.252697   \n",
       "135718 -0.283058  -0.885254  1.790649  -0.945149  3.853433  -1.543510   \n",
       "131272 -0.321636  -0.114361  1.036129   1.984405  3.128243  -0.740344   \n",
       "\n",
       "              V6         V7        V8        V9  ...       V20       V21  \\\n",
       "241254 -1.892388  -2.588418 -2.226592 -1.670173  ...  0.353898 -0.934127   \n",
       "10484  -0.221981  -0.022989 -0.010874  0.860044  ... -0.217358 -0.423554   \n",
       "150666 -4.192171 -14.077086  7.168288 -3.683242  ... -0.646818  2.541637   \n",
       "135718  0.188582  -2.988383  1.344059 -2.294535  ...  0.370041  0.746160   \n",
       "131272  1.548619  -1.701284 -2.203842 -1.242265  ...  0.732852 -1.032935   \n",
       "\n",
       "             V22       V23       V24       V25       V26       V27       V28  \\\n",
       "241254  0.922038 -0.180255 -0.281719  0.299285 -0.263801  0.150156  0.292112   \n",
       "10484  -0.800852  0.077614  0.167608  0.350182 -0.118941  0.012948  0.054254   \n",
       "150666  0.135535 -1.023967  0.406265  0.106593 -0.026232 -1.464630 -0.411682   \n",
       "135718  0.550802 -0.034882 -0.567608 -0.528318  0.258782  0.506893  0.176736   \n",
       "131272  1.196428 -0.112857  0.254719  0.696668  0.482370  0.129969  0.223924   \n",
       "\n",
       "          Amount  \n",
       "241254 -0.316087  \n",
       "10484  -0.338077  \n",
       "150666 -0.041379  \n",
       "135718 -0.322964  \n",
       "131272 -0.352430  \n",
       "\n",
       "[5 rows x 30 columns]"
      ]
     },
     "execution_count": 21,
     "metadata": {},
     "output_type": "execute_result"
    }
   ],
   "source": [
    "y= sample_df['Class']\n",
    "x= sample_df.drop(['Class'], axis=1)\n",
    "x.head()"
   ]
  },
  {
   "cell_type": "code",
   "execution_count": 22,
   "metadata": {},
   "outputs": [
    {
     "name": "stdout",
     "output_type": "stream",
     "text": [
      "(787, 30)\n",
      "(197, 30)\n"
     ]
    }
   ],
   "source": [
    "train_x, test_x, train_y, test_y= train_test_split(x,y, test_size=0.2, random_state=10)\n",
    "print(train_x.shape)\n",
    "print(test_x.shape)"
   ]
  },
  {
   "cell_type": "code",
   "execution_count": 23,
   "metadata": {},
   "outputs": [],
   "source": [
    "from plot_confusion_matrix import plot_confusion_matrix"
   ]
  },
  {
   "cell_type": "code",
   "execution_count": 24,
   "metadata": {},
   "outputs": [
    {
     "name": "stdout",
     "output_type": "stream",
     "text": [
      "Logistic Regression Validation Accuracy: 0.939\n"
     ]
    },
    {
     "data": {
      "image/png": "[encoded data removed]",
      "text/plain": [
       "<Figure size 432x288 with 2 Axes>"
      ]
     },
     "metadata": {
      "needs_background": "light"
     },
     "output_type": "display_data"
    }
   ],
   "source": [
    "lr_classifier= LogisticRegression()\n",
    "lr_classifier.fit(train_x, train_y)\n",
    "valid_predict= lr_classifier.predict(test_x)\n",
    "print('Logistic Regression Validation Accuracy: {:.3f}'.format(accuracy_score(test_y, valid_predict)))\n",
    "cm=confusion_matrix(test_y, valid_predict, labels=[1,0])\n",
    "np.set_printoptions(precision=2)\n",
    "plt.figure()\n",
    "plot_confusion_matrix(cm, classes=['Churn=1','Churn=0'])"
   ]
  },
  {
   "cell_type": "code",
   "execution_count": 25,
   "metadata": {},
   "outputs": [
    {
     "name": "stdout",
     "output_type": "stream",
     "text": [
      "Decision Tree Classifier Validation Accuracy: 0.888\n"
     ]
    },
    {
     "data": {
      "image/png": "[encoded data removed]",
      "text/plain": [
       "<Figure size 432x288 with 2 Axes>"
      ]
     },
     "metadata": {
      "needs_background": "light"
     },
     "output_type": "display_data"
    }
   ],
   "source": [
    "dt_classifier= DecisionTreeClassifier()\n",
    "dt_classifier.fit(train_x, train_y)\n",
    "valid_predict= dt_classifier.predict(test_x)\n",
    "print('Decision Tree Classifier Validation Accuracy: {:.3f}'.format(accuracy_score(test_y, valid_predict)))\n",
    "cm=confusion_matrix(test_y, valid_predict, labels=[1,0])\n",
    "np.set_printoptions(precision=2)\n",
    "plt.figure()\n",
    "plot_confusion_matrix(cm, classes=['Churn=1','Churn=0'])"
   ]
  },
  {
   "cell_type": "code",
   "execution_count": 26,
   "metadata": {},
   "outputs": [
    {
     "name": "stdout",
     "output_type": "stream",
     "text": [
      "Random Forest Classifier Validation Accuracy: 0.929\n"
     ]
    },
    {
     "data": {
      "image/png": "[encoded data removed]",
      "text/plain": [
       "<Figure size 432x288 with 2 Axes>"
      ]
     },
     "metadata": {
      "needs_background": "light"
     },
     "output_type": "display_data"
    }
   ],
   "source": [
    "rf_classifier= RandomForestClassifier()\n",
    "rf_classifier.fit(train_x, train_y)\n",
    "valid_predict= rf_classifier.predict(test_x)\n",
    "print('Random Forest Classifier Validation Accuracy: {:.3f}'.format(accuracy_score(test_y, valid_predict)))\n",
    "cm=confusion_matrix(test_y, valid_predict, labels=[1,0])\n",
    "np.set_printoptions(precision=2)\n",
    "plt.figure()\n",
    "plot_confusion_matrix(cm, classes=['Churn=1','Churn=0'])"
   ]
  },
  {
   "cell_type": "code",
   "execution_count": 27,
   "metadata": {},
   "outputs": [
    {
     "name": "stdout",
     "output_type": "stream",
     "text": [
      "Support Vector Classifier Validation Accuracy: 0.909\n"
     ]
    },
    {
     "data": {
      "image/png": "[encoded data removed]",
      "text/plain": [
       "<Figure size 432x288 with 2 Axes>"
      ]
     },
     "metadata": {
      "needs_background": "light"
     },
     "output_type": "display_data"
    }
   ],
   "source": [
    "svc_classifier= SVC()\n",
    "svc_classifier.fit(train_x, train_y)\n",
    "valid_predict= svc_classifier.predict(test_x)\n",
    "print('Support Vector Classifier Validation Accuracy: {:.3f}'.format(accuracy_score(test_y, valid_predict)))\n",
    "cm=confusion_matrix(test_y, valid_predict, labels=[1,0])\n",
    "np.set_printoptions(precision=2)\n",
    "plt.figure()\n",
    "plot_confusion_matrix(cm, classes=['Churn=1','Churn=0'])"
   ]
  },
  {
   "cell_type": "code",
   "execution_count": 28,
   "metadata": {},
   "outputs": [
    {
     "name": "stdout",
     "output_type": "stream",
     "text": [
      "K Neighbors Classifier Validation Accuracy: 0.924\n"
     ]
    },
    {
     "data": {
      "image/png": "[encoded data removed]",
      "text/plain": [
       "<Figure size 432x288 with 2 Axes>"
      ]
     },
     "metadata": {
      "needs_background": "light"
     },
     "output_type": "display_data"
    }
   ],
   "source": [
    "kn_classifier= KNeighborsClassifier()\n",
    "kn_classifier.fit(train_x, train_y)\n",
    "valid_predict= kn_classifier.predict(test_x)\n",
    "print('K Neighbors Classifier Validation Accuracy: {:.3f}'.format(accuracy_score(test_y, valid_predict)))\n",
    "cm=confusion_matrix(test_y, valid_predict, labels=[1,0])\n",
    "np.set_printoptions(precision=2)\n",
    "plt.figure()\n",
    "plot_confusion_matrix(cm, classes=['Churn=1','Churn=0'])"
   ]
  },
  {
   "cell_type": "markdown",
   "metadata": {},
   "source": [
    "## Classification on Original Dataset"
   ]
  },
  {
   "cell_type": "code",
   "execution_count": 29,
   "metadata": {},
   "outputs": [
    {
     "data": {
      "text/html": [
       "<div>\n",
       "<style scoped>\n",
       "    .dataframe tbody tr th:only-of-type {\n",
       "        vertical-align: middle;\n",
       "    }\n",
       "\n",
       "    .dataframe tbody tr th {\n",
       "        vertical-align: top;\n",
       "    }\n",
       "\n",
       "    .dataframe thead th {\n",
       "        text-align: right;\n",
       "    }\n",
       "</style>\n",
       "<table border=\"1\" class=\"dataframe\">\n",
       "  <thead>\n",
       "    <tr style=\"text-align: right;\">\n",
       "      <th></th>\n",
       "      <th>Time</th>\n",
       "      <th>V1</th>\n",
       "      <th>V2</th>\n",
       "      <th>V3</th>\n",
       "      <th>V4</th>\n",
       "      <th>V5</th>\n",
       "      <th>V6</th>\n",
       "      <th>V7</th>\n",
       "      <th>V8</th>\n",
       "      <th>V9</th>\n",
       "      <th>...</th>\n",
       "      <th>V20</th>\n",
       "      <th>V21</th>\n",
       "      <th>V22</th>\n",
       "      <th>V23</th>\n",
       "      <th>V24</th>\n",
       "      <th>V25</th>\n",
       "      <th>V26</th>\n",
       "      <th>V27</th>\n",
       "      <th>V28</th>\n",
       "      <th>Amount</th>\n",
       "    </tr>\n",
       "  </thead>\n",
       "  <tbody>\n",
       "    <tr>\n",
       "      <th>37308</th>\n",
       "      <td>-1.177430</td>\n",
       "      <td>-1.948561</td>\n",
       "      <td>0.883574</td>\n",
       "      <td>-0.832719</td>\n",
       "      <td>-1.254614</td>\n",
       "      <td>-2.953686</td>\n",
       "      <td>0.892269</td>\n",
       "      <td>3.175510</td>\n",
       "      <td>0.228270</td>\n",
       "      <td>-0.707266</td>\n",
       "      <td>...</td>\n",
       "      <td>0.187517</td>\n",
       "      <td>-0.200481</td>\n",
       "      <td>-0.533468</td>\n",
       "      <td>0.476328</td>\n",
       "      <td>-0.382893</td>\n",
       "      <td>0.051280</td>\n",
       "      <td>0.724433</td>\n",
       "      <td>0.383769</td>\n",
       "      <td>-0.063761</td>\n",
       "      <td>2.441433</td>\n",
       "    </tr>\n",
       "    <tr>\n",
       "      <th>131360</th>\n",
       "      <td>-0.320962</td>\n",
       "      <td>1.140310</td>\n",
       "      <td>0.048683</td>\n",
       "      <td>0.664428</td>\n",
       "      <td>1.448274</td>\n",
       "      <td>-0.409145</td>\n",
       "      <td>0.010268</td>\n",
       "      <td>-0.207347</td>\n",
       "      <td>0.106452</td>\n",
       "      <td>0.624527</td>\n",
       "      <td>...</td>\n",
       "      <td>-0.223051</td>\n",
       "      <td>-0.058232</td>\n",
       "      <td>0.081320</td>\n",
       "      <td>-0.067370</td>\n",
       "      <td>0.087378</td>\n",
       "      <td>0.609360</td>\n",
       "      <td>-0.267618</td>\n",
       "      <td>0.052254</td>\n",
       "      <td>0.019163</td>\n",
       "      <td>-0.313249</td>\n",
       "    </tr>\n",
       "    <tr>\n",
       "      <th>242266</th>\n",
       "      <td>1.191945</td>\n",
       "      <td>0.038136</td>\n",
       "      <td>0.580730</td>\n",
       "      <td>-0.507179</td>\n",
       "      <td>-0.907247</td>\n",
       "      <td>1.768349</td>\n",
       "      <td>1.219278</td>\n",
       "      <td>0.762048</td>\n",
       "      <td>0.355227</td>\n",
       "      <td>0.031817</td>\n",
       "      <td>...</td>\n",
       "      <td>-0.028497</td>\n",
       "      <td>-0.278404</td>\n",
       "      <td>-0.492436</td>\n",
       "      <td>0.150008</td>\n",
       "      <td>-0.867343</td>\n",
       "      <td>-0.700089</td>\n",
       "      <td>0.188071</td>\n",
       "      <td>0.093942</td>\n",
       "      <td>-0.164461</td>\n",
       "      <td>-0.281304</td>\n",
       "    </tr>\n",
       "    <tr>\n",
       "      <th>70350</th>\n",
       "      <td>-0.862972</td>\n",
       "      <td>0.645573</td>\n",
       "      <td>-0.419194</td>\n",
       "      <td>0.088680</td>\n",
       "      <td>1.245510</td>\n",
       "      <td>-0.174088</td>\n",
       "      <td>-0.109024</td>\n",
       "      <td>0.531370</td>\n",
       "      <td>-0.033480</td>\n",
       "      <td>-0.557744</td>\n",
       "      <td>...</td>\n",
       "      <td>0.391441</td>\n",
       "      <td>-0.228694</td>\n",
       "      <td>-1.290322</td>\n",
       "      <td>0.010357</td>\n",
       "      <td>-0.044269</td>\n",
       "      <td>0.063760</td>\n",
       "      <td>-0.855282</td>\n",
       "      <td>-0.023274</td>\n",
       "      <td>0.062087</td>\n",
       "      <td>0.706263</td>\n",
       "    </tr>\n",
       "    <tr>\n",
       "      <th>82328</th>\n",
       "      <td>-0.746606</td>\n",
       "      <td>1.223116</td>\n",
       "      <td>0.212560</td>\n",
       "      <td>0.635293</td>\n",
       "      <td>0.706866</td>\n",
       "      <td>-0.676058</td>\n",
       "      <td>-1.185337</td>\n",
       "      <td>0.056445</td>\n",
       "      <td>-0.209991</td>\n",
       "      <td>0.070963</td>\n",
       "      <td>...</td>\n",
       "      <td>-0.110015</td>\n",
       "      <td>-0.235318</td>\n",
       "      <td>-0.714605</td>\n",
       "      <td>0.174446</td>\n",
       "      <td>0.697892</td>\n",
       "      <td>0.160191</td>\n",
       "      <td>0.074646</td>\n",
       "      <td>-0.032112</td>\n",
       "      <td>0.022890</td>\n",
       "      <td>-0.317287</td>\n",
       "    </tr>\n",
       "  </tbody>\n",
       "</table>\n",
       "<p>5 rows × 30 columns</p>\n",
       "</div>"
      ],
      "text/plain": [
       "            Time        V1        V2        V3        V4        V5        V6  \\\n",
       "37308  -1.177430 -1.948561  0.883574 -0.832719 -1.254614 -2.953686  0.892269   \n",
       "131360 -0.320962  1.140310  0.048683  0.664428  1.448274 -0.409145  0.010268   \n",
       "242266  1.191945  0.038136  0.580730 -0.507179 -0.907247  1.768349  1.219278   \n",
       "70350  -0.862972  0.645573 -0.419194  0.088680  1.245510 -0.174088 -0.109024   \n",
       "82328  -0.746606  1.223116  0.212560  0.635293  0.706866 -0.676058 -1.185337   \n",
       "\n",
       "              V7        V8        V9  ...       V20       V21       V22  \\\n",
       "37308   3.175510  0.228270 -0.707266  ...  0.187517 -0.200481 -0.533468   \n",
       "131360 -0.207347  0.106452  0.624527  ... -0.223051 -0.058232  0.081320   \n",
       "242266  0.762048  0.355227  0.031817  ... -0.028497 -0.278404 -0.492436   \n",
       "70350   0.531370 -0.033480 -0.557744  ...  0.391441 -0.228694 -1.290322   \n",
       "82328   0.056445 -0.209991  0.070963  ... -0.110015 -0.235318 -0.714605   \n",
       "\n",
       "             V23       V24       V25       V26       V27       V28    Amount  \n",
       "37308   0.476328 -0.382893  0.051280  0.724433  0.383769 -0.063761  2.441433  \n",
       "131360 -0.067370  0.087378  0.609360 -0.267618  0.052254  0.019163 -0.313249  \n",
       "242266  0.150008 -0.867343 -0.700089  0.188071  0.093942 -0.164461 -0.281304  \n",
       "70350   0.010357 -0.044269  0.063760 -0.855282 -0.023274  0.062087  0.706263  \n",
       "82328   0.174446  0.697892  0.160191  0.074646 -0.032112  0.022890 -0.317287  \n",
       "\n",
       "[5 rows x 30 columns]"
      ]
     },
     "execution_count": 29,
     "metadata": {},
     "output_type": "execute_result"
    }
   ],
   "source": [
    "y= df['Class']\n",
    "x= df.drop(['Class'], axis=1)\n",
    "x.head()"
   ]
  },
  {
   "cell_type": "code",
   "execution_count": 30,
   "metadata": {
    "scrolled": true
   },
   "outputs": [
    {
     "name": "stdout",
     "output_type": "stream",
     "text": [
      "(227845, 30)\n",
      "(56962, 30)\n"
     ]
    }
   ],
   "source": [
    "train_x, test_x, train_y, test_y= train_test_split(x,y, test_size=0.2, random_state=10)\n",
    "print(train_x.shape)\n",
    "print(test_x.shape)"
   ]
  },
  {
   "cell_type": "code",
   "execution_count": 31,
   "metadata": {},
   "outputs": [
    {
     "data": {
      "text/plain": [
       "0    56865\n",
       "1       97\n",
       "Name: Class, dtype: int64"
      ]
     },
     "execution_count": 31,
     "metadata": {},
     "output_type": "execute_result"
    }
   ],
   "source": [
    "test_y.value_counts()"
   ]
  },
  {
   "cell_type": "markdown",
   "metadata": {},
   "source": [
    "__Fitting Logistic Regression on the original dataset__"
   ]
  },
  {
   "cell_type": "code",
   "execution_count": 32,
   "metadata": {},
   "outputs": [
    {
     "name": "stdout",
     "output_type": "stream",
     "text": [
      "Logistic Regression Validation Accuracy: 0.999\n",
      "              precision    recall  f1-score   support\n",
      "\n",
      "           0       1.00      1.00      1.00     56865\n",
      "           1       0.91      0.66      0.77        97\n",
      "\n",
      "    accuracy                           1.00     56962\n",
      "   macro avg       0.96      0.83      0.88     56962\n",
      "weighted avg       1.00      1.00      1.00     56962\n",
      "\n"
     ]
    },
    {
     "data": {
      "image/png": "[encoded data removed]",
      "text/plain": [
       "<Figure size 432x288 with 2 Axes>"
      ]
     },
     "metadata": {
      "needs_background": "light"
     },
     "output_type": "display_data"
    }
   ],
   "source": [
    "classifier= LogisticRegression()\n",
    "classifier.fit(train_x, train_y)\n",
    "valid_predict= classifier.predict(test_x)\n",
    "print('Logistic Regression Validation Accuracy: {:.3f}'.format(accuracy_score(test_y, valid_predict)))\n",
    "print(classification_report(test_y, valid_predict))\n",
    "cm=confusion_matrix(test_y, valid_predict, labels=[1,0])\n",
    "np.set_printoptions(precision=2)\n",
    "plt.figure()\n",
    "plot_confusion_matrix(cm, classes=['Churn=1','Churn=0'])"
   ]
  },
  {
   "cell_type": "markdown",
   "metadata": {},
   "source": [
    "Due to highly imbalanced dataset the model performs bad in predicting the frauds"
   ]
  },
  {
   "cell_type": "markdown",
   "metadata": {},
   "source": [
    "__Directly applying Logistic Regression on original dataset using previously trained undersampled model__"
   ]
  },
  {
   "cell_type": "code",
   "execution_count": 33,
   "metadata": {},
   "outputs": [
    {
     "name": "stdout",
     "output_type": "stream",
     "text": [
      "Undersampled Logistic Regression Validation Accuracy: 0.972\n",
      "              precision    recall  f1-score   support\n",
      "\n",
      "           0       1.00      0.97      0.99     56865\n",
      "           1       0.05      0.92      0.10        97\n",
      "\n",
      "    accuracy                           0.97     56962\n",
      "   macro avg       0.53      0.94      0.54     56962\n",
      "weighted avg       1.00      0.97      0.98     56962\n",
      "\n"
     ]
    },
    {
     "data": {
      "image/png": "[encoded data removed]",
      "text/plain": [
       "<Figure size 432x288 with 2 Axes>"
      ]
     },
     "metadata": {
      "needs_background": "light"
     },
     "output_type": "display_data"
    }
   ],
   "source": [
    "valid_predict= lr_classifier.predict(test_x)\n",
    "print('Undersampled Logistic Regression Validation Accuracy: {:.3f}'.format(accuracy_score(test_y, valid_predict)))\n",
    "print(classification_report(test_y, valid_predict))\n",
    "cm=confusion_matrix(test_y, valid_predict, labels=[1,0])\n",
    "np.set_printoptions(precision=2)\n",
    "plt.figure()\n",
    "plot_confusion_matrix(cm, classes=['Churn=1','Churn=0'])"
   ]
  },
  {
   "cell_type": "markdown",
   "metadata": {},
   "source": [
    "__The undersampled model is able to predict frauds in the original imbalanced dataset more accurately rather than directly training model on dataset. Although the precision in undersampling case is almost dropped to zero due to high amount of false positive predictions(Precision)__\n"
   ]
  }
 ],
 "metadata": {
  "kernelspec": {
   "display_name": "Python 3",
   "language": "python",
   "name": "python3"
  },
  "language_info": {
   "codemirror_mode": {
    "name": "ipython",
    "version": 3
   },
   "file_extension": ".py",
   "mimetype": "text/x-python",
   "name": "python",
   "nbconvert_exporter": "python",
   "pygments_lexer": "ipython3",
   "version": "3.7.4"
  }
 },
 "nbformat": 4,
 "nbformat_minor": 4
}
